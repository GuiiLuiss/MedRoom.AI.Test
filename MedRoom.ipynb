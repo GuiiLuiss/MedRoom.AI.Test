{
  "nbformat": 4,
  "nbformat_minor": 0,
  "metadata": {
    "colab": {
      "provenance": [],
      "toc_visible": true
    },
    "kernelspec": {
      "name": "python3",
      "display_name": "Python 3"
    },
    "language_info": {
      "name": "python"
    }
  },
  "cells": [
    {
      "cell_type": "markdown",
      "source": [
        "# **Medida de similaridade entre textos**\n",
        "\n",
        "\n",
        "\n",
        "\n"
      ],
      "metadata": {
        "id": "TuyFKvQdbEPa"
      }
    },
    {
      "cell_type": "markdown",
      "source": [
        "#### **Introdução**\n",
        "\n",
        "---"
      ],
      "metadata": {
        "id": "jlJRqM-DcD-l"
      }
    },
    {
      "cell_type": "markdown",
      "source": [
        "A medida de similaridade entre textos é uma técnica utilizada no processamento de linguagem natural (NLP) para comparar a similaridade ou proximidade entre dois ou mais textos. Essa técnica é muito útil em diversas aplicações, por exemplo:\n",
        "\n",
        "- Recuperação de informações\n",
        "- Análise de sentimentos\n",
        "- Classificação de textos\n",
        "- Detecção de plágio\n",
        "- Resumo automático"
      ],
      "metadata": {
        "id": "-zlVigoYcFX1"
      }
    },
    {
      "cell_type": "markdown",
      "source": [
        "<img src=\"https://media.giphy.com/media/dQpUkK59l5Imxsh8jN/giphy.gif\" alt=\"win\" width=\"600\"/>"
      ],
      "metadata": {
        "id": "22tmO0BYdAZF"
      }
    },
    {
      "cell_type": "markdown",
      "source": [
        "A medida de similaridade entre textos pode ser realizada de diversas maneiras, como por exemplo, utilizando medidas baseadas em frequência de termos, medidas baseadas em modelos de tópicos, medidas baseadas em redes semânticas e medidas baseadas em aprendizado de máquina. A escolha da medida mais adequada depende do tipo de problema e do tipo de texto que está sendo analisado."
      ],
      "metadata": {
        "id": "4iaEdlqSdAkt"
      }
    },
    {
      "cell_type": "markdown",
      "source": [
        "#### **Objetivo**\n",
        "\n",
        "---"
      ],
      "metadata": {
        "id": "svd7I46Qg5-c"
      }
    },
    {
      "cell_type": "markdown",
      "source": [
        "Neste projeto o objetivo é devolver um score de semelhança entre frases"
      ],
      "metadata": {
        "id": "egrVygobg7za"
      }
    },
    {
      "cell_type": "markdown",
      "source": [
        "#### **Sobre os dados**\n",
        "\n",
        "---"
      ],
      "metadata": {
        "id": "_i2s6sNhdsuW"
      }
    },
    {
      "cell_type": "markdown",
      "source": [
        "Dada a seguinte frase original:\n",
        "\n",
        "*Olhando para a escala na parede, qual valor indicaria melhor a sua dor hoje?*\n",
        "\n",
        "Faremos uma comparação com as 3 frases a seguir, devolvendo o score de semelhança entre a original e a comparativa:\n",
        "\n",
        "- *De acordo com a escala de dor ali na parede, qual valor você acha que mais representa a sua dor?*\n",
        "- *De 0 a 10, qual o nível de intensidade da sua dor atualmente?*\n",
        "- *Qual a intensidade da sua dor?*"
      ],
      "metadata": {
        "id": "MJb_a7vhdtQk"
      }
    },
    {
      "cell_type": "markdown",
      "source": [
        "#### **Primeiros passos**\n",
        "\n",
        "---"
      ],
      "metadata": {
        "id": "Ber04YR5h7X7"
      }
    },
    {
      "cell_type": "markdown",
      "source": [
        "Vamos começar criando uma lista com a frase original e as frases comparativas:"
      ],
      "metadata": {
        "id": "bohRQrlaiKYz"
      }
    },
    {
      "cell_type": "code",
      "source": [
        "# Frase original \n",
        "\n",
        "x = 'Olhando para a escala na parede, qual valor indicaria melhor a sua dor hoje?'"
      ],
      "metadata": {
        "id": "jM3WbUeGVnT4"
      },
      "execution_count": 1,
      "outputs": []
    },
    {
      "cell_type": "code",
      "source": [
        "# Frases comparativas\n",
        "\n",
        "y = ['De acordo com a escala de dor ali na parede, qual valor você acha que mais representa a sua dor?',\n",
        "     'De 0 a 10, qual o nível de intensidade da sua dor atualmente?',\n",
        "     'Qual a intensidade da sua dor?']"
      ],
      "metadata": {
        "id": "Q4VWrOEUVr3o"
      },
      "execution_count": 2,
      "outputs": []
    },
    {
      "cell_type": "markdown",
      "source": [
        "Criado nossa lista, vamos concatenar nossas frases na variável 'documents':"
      ],
      "metadata": {
        "id": "VIiVSfrbisqy"
      }
    },
    {
      "cell_type": "code",
      "source": [
        "documents = [x] + y\n",
        "documents"
      ],
      "metadata": {
        "colab": {
          "base_uri": "https://localhost:8080/"
        },
        "id": "1G_9zHqkXGgJ",
        "outputId": "8e294d9f-b74b-49bc-a961-95c9c5180e4f"
      },
      "execution_count": 3,
      "outputs": [
        {
          "output_type": "execute_result",
          "data": {
            "text/plain": [
              "['Olhando para a escala na parede, qual valor indicaria melhor a sua dor hoje?',\n",
              " 'De acordo com a escala de dor ali na parede, qual valor você acha que mais representa a sua dor?',\n",
              " 'De 0 a 10, qual o nível de intensidade da sua dor atualmente?',\n",
              " 'Qual a intensidade da sua dor?']"
            ]
          },
          "metadata": {},
          "execution_count": 3
        }
      ]
    },
    {
      "cell_type": "markdown",
      "source": [
        "#### **Limpeza e tratamento**\n",
        "\n",
        "---"
      ],
      "metadata": {
        "id": "B0yVx92djDEB"
      }
    },
    {
      "cell_type": "markdown",
      "source": [
        "Nossas frases estão com pontuações e caracteres especiais, para melhor desempenho deste estudo vamos realizar uma limpeza e aplicar em nosso conjunto de dados:"
      ],
      "metadata": {
        "id": "Xi4i_U6ijJoR"
      }
    },
    {
      "cell_type": "code",
      "source": [
        "# Importando libs necessárias para realizar a limpeza\n",
        "\n",
        "import string\n",
        "!pip install unidecode\n",
        "from unidecode import unidecode\n",
        "import re"
      ],
      "metadata": {
        "id": "Bj_Et7upjU0Z"
      },
      "execution_count": null,
      "outputs": []
    },
    {
      "cell_type": "markdown",
      "source": [
        "Realizando limpeza e adicionando as frases na variável \"texto_limpo\":"
      ],
      "metadata": {
        "id": "7XFifJJQlujA"
      }
    },
    {
      "cell_type": "code",
      "source": [
        "def clean_text(text):\n",
        "    # Remove as pontuações\n",
        "    text = text.translate(str.maketrans('', '', string.punctuation))\n",
        "\n",
        "    # Remove os acentos e deixa tudo minúsculo\n",
        "    text = unidecode(text).lower()\n",
        "\n",
        "    # Remove os números\n",
        "    text = re.sub(r'\\d+', '', text)\n",
        "\n",
        "    return text\n",
        "\n",
        "# Limpa as frases\n",
        "texto_limpo = [clean_text(frase) for frase in documents]"
      ],
      "metadata": {
        "id": "2ruTXrJg41gw"
      },
      "execution_count": 5,
      "outputs": []
    },
    {
      "cell_type": "code",
      "source": [
        "# Visualização das frases limpas\n",
        "\n",
        "texto_limpo"
      ],
      "metadata": {
        "colab": {
          "base_uri": "https://localhost:8080/"
        },
        "id": "TOnAXTYEmM1Q",
        "outputId": "f80aa4b0-7b6a-4148-e7c8-dbdd40985f99"
      },
      "execution_count": 6,
      "outputs": [
        {
          "output_type": "execute_result",
          "data": {
            "text/plain": [
              "['olhando para a escala na parede qual valor indicaria melhor a sua dor hoje',\n",
              " 'de acordo com a escala de dor ali na parede qual valor voce acha que mais representa a sua dor',\n",
              " 'de  a  qual o nivel de intensidade da sua dor atualmente',\n",
              " 'qual a intensidade da sua dor']"
            ]
          },
          "metadata": {},
          "execution_count": 6
        }
      ]
    },
    {
      "cell_type": "markdown",
      "source": [
        "#### **Análise Semântica Latente (LSA)**\n",
        "\n",
        "---"
      ],
      "metadata": {
        "id": "YIRldp3xnAmC"
      }
    },
    {
      "cell_type": "markdown",
      "source": [
        "Análise Semântica Latente (LSA, do inglês Latent Semantic Analysis) é uma técnica de processamento de linguagem natural (NLP) utilizada para analisar relações entre um conjunto de documentos e os termos que eles contêm. A técnica é baseada em matemática linear e estatística, e tem como objetivo descobrir relações semânticas entre palavras e documentos.\n",
        "\n",
        "Iremos utilizar esse método neste estudo pois lendo nossas frases percebi que de certa forma são usadas palavras diferentes para expressar a mesma coisa. Está aí o motivo pela escolha deste método: **ele é útil para calcular o score de semelhança entre frases que usam palavras diferentes para expressar conceitos semelhantes.**\n",
        "\n",
        "\n",
        "\n"
      ],
      "metadata": {
        "id": "j3OY_q-qnJdb"
      }
    },
    {
      "cell_type": "markdown",
      "source": [
        "Vamos começar importando algumas bibliotecas:"
      ],
      "metadata": {
        "id": "Bgog57WJo8LI"
      }
    },
    {
      "cell_type": "code",
      "source": [
        "from sklearn.feature_extraction.text import TfidfVectorizer # Vetores\n",
        "from sklearn.decomposition import TruncatedSVD # Método LSA\n",
        "from sklearn.metrics.pairwise import cosine_similarity # Calcular a similaridade do cosseno entre dois vetores\n",
        "\n",
        "# Processamento de linguagem natural\n",
        "import nltk\n",
        "from nltk.corpus import stopwords\n",
        "nltk.download('stopwords') # Baixando nossas stopwords (palavras que podem ser consideradas irrelevantes)"
      ],
      "metadata": {
        "id": "OYNg-9LQXE1w"
      },
      "execution_count": null,
      "outputs": []
    },
    {
      "cell_type": "markdown",
      "source": [
        "Feito nossas importações, bora continuar a aplicação do nosso método:"
      ],
      "metadata": {
        "id": "OXuuXQIuqzDv"
      }
    },
    {
      "cell_type": "markdown",
      "source": [
        "*Matriz TF-IDF*\n",
        "\n",
        "---"
      ],
      "metadata": {
        "id": "XiQGPxqjwcwV"
      }
    },
    {
      "cell_type": "markdown",
      "source": [
        "Vamos criar uma matriz TF-IDF a partir dos textos pré-processados, \n",
        "que é uma representação numérica dos textos que pode ser usada para calcular a similaridade entre eles usando técnicas como LSA:"
      ],
      "metadata": {
        "id": "SFeRwSewxc4F"
      }
    },
    {
      "cell_type": "code",
      "source": [
        "# Salvando palavras em português que podem ser consideradas irrelevantes na variável 'stopwords'\n",
        "\n",
        "stop_words = stopwords.words('portuguese')"
      ],
      "metadata": {
        "id": "tTgR2WY0qQLP"
      },
      "execution_count": 8,
      "outputs": []
    },
    {
      "cell_type": "code",
      "source": [
        "# Matriz tf-idf\n",
        "\n",
        "vectorizer = TfidfVectorizer(stop_words=stop_words)\n",
        "tfidf_matrix = vectorizer.fit_transform(texto_limpo)"
      ],
      "metadata": {
        "id": "ohipn-cFXnS_"
      },
      "execution_count": 9,
      "outputs": []
    },
    {
      "cell_type": "markdown",
      "source": [
        "*Método LSA*\n",
        "\n",
        "---"
      ],
      "metadata": {
        "id": "4QXQEXR5wnd9"
      }
    },
    {
      "cell_type": "code",
      "source": [
        "# Instanciando nosso modelo LSA\n",
        "lsa_model = TruncatedSVD(n_components=2)\n",
        "\n",
        "# Aplicando nosso modelo na matriz TF-IDF\n",
        "lsa_matrix = lsa_model.fit_transform(tfidf_matrix)"
      ],
      "metadata": {
        "id": "PdhfkvzdYN8Z"
      },
      "execution_count": 10,
      "outputs": []
    },
    {
      "cell_type": "markdown",
      "source": [
        "*Resultados*\n",
        "\n",
        "---"
      ],
      "metadata": {
        "id": "TU2KzOVNwskb"
      }
    },
    {
      "cell_type": "markdown",
      "source": [
        "Aplicado nosso método, agora vamos avaliar calculando a similaridade cosseno entre nossa frase original e comparativas.\n",
        "\n",
        "A similaridade cosseno é uma medida que indica o grau de similaridade entre dois vetores em um espaço vetorial. No caso de documentos, podemos pensar que cada documento é um vetor que representa a frequência de cada termo do vocabulário em um espaço vetorial:"
      ],
      "metadata": {
        "id": "76ZP5QbzwvHU"
      }
    },
    {
      "cell_type": "code",
      "source": [
        "# Cálculo similaridade cosseno\n",
        "cos_similarities = cosine_similarity(lsa_matrix[0].reshape(1, -1), lsa_matrix[1:])"
      ],
      "metadata": {
        "id": "KS0unxxYYRF3"
      },
      "execution_count": 11,
      "outputs": []
    },
    {
      "cell_type": "markdown",
      "source": [
        "Bora plotar nossos resultados em um DataFrame:"
      ],
      "metadata": {
        "id": "e5U6vj-w0Tz6"
      }
    },
    {
      "cell_type": "code",
      "source": [
        "# Importando biblioteca do Pandas\n",
        "import pandas as pd"
      ],
      "metadata": {
        "id": "_yuz_QT3y6Ol"
      },
      "execution_count": 12,
      "outputs": []
    },
    {
      "cell_type": "code",
      "source": [
        "# Loop for: Adicionando frases e score de semelhança em uma lista vazia \"similarities_list\"\n",
        "\n",
        "similarities_list = []\n",
        "for i, cos_sim in enumerate(cos_similarities[0]):\n",
        "    similarities_list.append((documents[0], documents[i+1], cos_sim))"
      ],
      "metadata": {
        "id": "WRNtW2yyy89L"
      },
      "execution_count": 13,
      "outputs": []
    },
    {
      "cell_type": "code",
      "source": [
        "# Criando nosso DataFrame\n",
        "df = pd.DataFrame(similarities_list, columns=['Original', 'Comparativas', 'Score de Semelhança'])"
      ],
      "metadata": {
        "id": "PLY_VShAzCnC"
      },
      "execution_count": 14,
      "outputs": []
    },
    {
      "cell_type": "code",
      "source": [
        "# Visualização do DataFrame\n",
        "df"
      ],
      "metadata": {
        "colab": {
          "base_uri": "https://localhost:8080/",
          "height": 143
        },
        "id": "4nYrPdEEzGdD",
        "outputId": "63a30fa5-a11d-488c-dbfa-7e9c3424a9a7"
      },
      "execution_count": 15,
      "outputs": [
        {
          "output_type": "execute_result",
          "data": {
            "text/plain": [
              "                                            Original  \\\n",
              "0  Olhando para a escala na parede, qual valor in...   \n",
              "1  Olhando para a escala na parede, qual valor in...   \n",
              "2  Olhando para a escala na parede, qual valor in...   \n",
              "\n",
              "                                        Comparativas  Score de Semelhança  \n",
              "0  De acordo com a escala de dor ali na parede, q...             0.984824  \n",
              "1  De 0 a 10, qual o nível de intensidade da sua ...             0.013619  \n",
              "2                     Qual a intensidade da sua dor?             0.163794  "
            ],
            "text/html": [
              "\n",
              "  <div id=\"df-aed4a3c7-7e0d-4ff8-8164-0f7bce7d992e\">\n",
              "    <div class=\"colab-df-container\">\n",
              "      <div>\n",
              "<style scoped>\n",
              "    .dataframe tbody tr th:only-of-type {\n",
              "        vertical-align: middle;\n",
              "    }\n",
              "\n",
              "    .dataframe tbody tr th {\n",
              "        vertical-align: top;\n",
              "    }\n",
              "\n",
              "    .dataframe thead th {\n",
              "        text-align: right;\n",
              "    }\n",
              "</style>\n",
              "<table border=\"1\" class=\"dataframe\">\n",
              "  <thead>\n",
              "    <tr style=\"text-align: right;\">\n",
              "      <th></th>\n",
              "      <th>Original</th>\n",
              "      <th>Comparativas</th>\n",
              "      <th>Score de Semelhança</th>\n",
              "    </tr>\n",
              "  </thead>\n",
              "  <tbody>\n",
              "    <tr>\n",
              "      <th>0</th>\n",
              "      <td>Olhando para a escala na parede, qual valor in...</td>\n",
              "      <td>De acordo com a escala de dor ali na parede, q...</td>\n",
              "      <td>0.984824</td>\n",
              "    </tr>\n",
              "    <tr>\n",
              "      <th>1</th>\n",
              "      <td>Olhando para a escala na parede, qual valor in...</td>\n",
              "      <td>De 0 a 10, qual o nível de intensidade da sua ...</td>\n",
              "      <td>0.013619</td>\n",
              "    </tr>\n",
              "    <tr>\n",
              "      <th>2</th>\n",
              "      <td>Olhando para a escala na parede, qual valor in...</td>\n",
              "      <td>Qual a intensidade da sua dor?</td>\n",
              "      <td>0.163794</td>\n",
              "    </tr>\n",
              "  </tbody>\n",
              "</table>\n",
              "</div>\n",
              "      <button class=\"colab-df-convert\" onclick=\"convertToInteractive('df-aed4a3c7-7e0d-4ff8-8164-0f7bce7d992e')\"\n",
              "              title=\"Convert this dataframe to an interactive table.\"\n",
              "              style=\"display:none;\">\n",
              "        \n",
              "  <svg xmlns=\"http://www.w3.org/2000/svg\" height=\"24px\"viewBox=\"0 0 24 24\"\n",
              "       width=\"24px\">\n",
              "    <path d=\"M0 0h24v24H0V0z\" fill=\"none\"/>\n",
              "    <path d=\"M18.56 5.44l.94 2.06.94-2.06 2.06-.94-2.06-.94-.94-2.06-.94 2.06-2.06.94zm-11 1L8.5 8.5l.94-2.06 2.06-.94-2.06-.94L8.5 2.5l-.94 2.06-2.06.94zm10 10l.94 2.06.94-2.06 2.06-.94-2.06-.94-.94-2.06-.94 2.06-2.06.94z\"/><path d=\"M17.41 7.96l-1.37-1.37c-.4-.4-.92-.59-1.43-.59-.52 0-1.04.2-1.43.59L10.3 9.45l-7.72 7.72c-.78.78-.78 2.05 0 2.83L4 21.41c.39.39.9.59 1.41.59.51 0 1.02-.2 1.41-.59l7.78-7.78 2.81-2.81c.8-.78.8-2.07 0-2.86zM5.41 20L4 18.59l7.72-7.72 1.47 1.35L5.41 20z\"/>\n",
              "  </svg>\n",
              "      </button>\n",
              "      \n",
              "  <style>\n",
              "    .colab-df-container {\n",
              "      display:flex;\n",
              "      flex-wrap:wrap;\n",
              "      gap: 12px;\n",
              "    }\n",
              "\n",
              "    .colab-df-convert {\n",
              "      background-color: #E8F0FE;\n",
              "      border: none;\n",
              "      border-radius: 50%;\n",
              "      cursor: pointer;\n",
              "      display: none;\n",
              "      fill: #1967D2;\n",
              "      height: 32px;\n",
              "      padding: 0 0 0 0;\n",
              "      width: 32px;\n",
              "    }\n",
              "\n",
              "    .colab-df-convert:hover {\n",
              "      background-color: #E2EBFA;\n",
              "      box-shadow: 0px 1px 2px rgba(60, 64, 67, 0.3), 0px 1px 3px 1px rgba(60, 64, 67, 0.15);\n",
              "      fill: #174EA6;\n",
              "    }\n",
              "\n",
              "    [theme=dark] .colab-df-convert {\n",
              "      background-color: #3B4455;\n",
              "      fill: #D2E3FC;\n",
              "    }\n",
              "\n",
              "    [theme=dark] .colab-df-convert:hover {\n",
              "      background-color: #434B5C;\n",
              "      box-shadow: 0px 1px 3px 1px rgba(0, 0, 0, 0.15);\n",
              "      filter: drop-shadow(0px 1px 2px rgba(0, 0, 0, 0.3));\n",
              "      fill: #FFFFFF;\n",
              "    }\n",
              "  </style>\n",
              "\n",
              "      <script>\n",
              "        const buttonEl =\n",
              "          document.querySelector('#df-aed4a3c7-7e0d-4ff8-8164-0f7bce7d992e button.colab-df-convert');\n",
              "        buttonEl.style.display =\n",
              "          google.colab.kernel.accessAllowed ? 'block' : 'none';\n",
              "\n",
              "        async function convertToInteractive(key) {\n",
              "          const element = document.querySelector('#df-aed4a3c7-7e0d-4ff8-8164-0f7bce7d992e');\n",
              "          const dataTable =\n",
              "            await google.colab.kernel.invokeFunction('convertToInteractive',\n",
              "                                                     [key], {});\n",
              "          if (!dataTable) return;\n",
              "\n",
              "          const docLinkHtml = 'Like what you see? Visit the ' +\n",
              "            '<a target=\"_blank\" href=https://colab.research.google.com/notebooks/data_table.ipynb>data table notebook</a>'\n",
              "            + ' to learn more about interactive tables.';\n",
              "          element.innerHTML = '';\n",
              "          dataTable['output_type'] = 'display_data';\n",
              "          await google.colab.output.renderOutput(dataTable, element);\n",
              "          const docLink = document.createElement('div');\n",
              "          docLink.innerHTML = docLinkHtml;\n",
              "          element.appendChild(docLink);\n",
              "        }\n",
              "      </script>\n",
              "    </div>\n",
              "  </div>\n",
              "  "
            ]
          },
          "metadata": {},
          "execution_count": 15
        }
      ]
    },
    {
      "cell_type": "markdown",
      "source": [
        "Esses são os resultados que obtivemos:\n",
        "\n",
        "**Frase original:**\n",
        "- *Olhando para a escala na parede, qual valor indicaria melhor a sua dor hoje?*\n",
        "\n",
        "**Frases comparativas:**\n",
        "- *De acordo com a escala de dor ali na parede, qual valor você acha que mais representa a sua dor?*\n",
        "  - Apresentou um score de similaridade = 98,48%\n",
        "\n",
        "- *De 0 a 10, qual o nível de intensidade da sua dor atualmente?*\n",
        "\n",
        "  - Apresentou um score de similaridade = 1,36%\n",
        "\n",
        "- *Qual a intensidade da sua dor?*\n",
        "\n",
        "  - Apresentou um score de similaridade = 16,37%\n",
        "\n"
      ],
      "metadata": {
        "id": "7CSz1Cs_9bh1"
      }
    },
    {
      "cell_type": "markdown",
      "source": [
        "<img src=\"https://media.giphy.com/media/L2xcBudpN3nXTfV8ya/giphy.gif\" alt=\"win\" width=\"600\"/>"
      ],
      "metadata": {
        "id": "OC9ssYwVDlpz"
      }
    },
    {
      "cell_type": "markdown",
      "source": [
        "#### **Conclusão**\n",
        "\n",
        "---"
      ],
      "metadata": {
        "id": "0T9TMPUd72Mn"
      }
    },
    {
      "cell_type": "markdown",
      "source": [
        "Através deste estudo, quis trazer ao conhecimento como implementar medidas de similaridade entre textos, a fim de deixar o entendimento mais transparente e direto. Algo que também está no escopo deste estudo foi o processo de tratamento e limpeza de texto e por fim a implementação da análise semântica (LSA).\n",
        "\n",
        "Obviamente, como todos os estudos, este não é uma exceção e poderá ser refinado, assim como estará aberto para novas ideias, feedbacks e ferramentas a serem implementadas.\n",
        "\n",
        "Um dos principais resultados que obtivemos aqui foi a aplicação de análise semântica latente. **Se pensarmos como material de 'estudos' conseguimos criar um bom modelo** apresentando mais de 90% de similaridade em uma das 3 frases comparativas. Claramente podemos melhorar o resultado nas outras duas frases, porém é um fato que o algoritmo não vai capturar sempre todas as nuances semânticas da linguagem natural. Outro ponto importante que levaria a resultados melhores seria trabalharmos com mais dados e testar outros algoritmos com técnicas de GridSearch para alavancar os hiperparâmetros por exemplo (o que acabou fugindo do escopo deste estudo).\n"
      ],
      "metadata": {
        "id": "-FMzkz4z9Zun"
      }
    }
  ]
}